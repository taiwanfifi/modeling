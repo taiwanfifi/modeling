{
 "cells": [
  {
   "cell_type": "code",
   "execution_count": 52,
   "id": "03e797e5",
   "metadata": {},
   "outputs": [
    {
     "name": "stdout",
     "output_type": "stream",
     "text": [
      "/Users/william/Desktop/git/modeling/img/.DS_Store\n",
      "\n",
      "/Users/william/Desktop/git/modeling/img/0_hist.jpg\n",
      "\n",
      "/Users/william/Desktop/git/modeling/img/0_hist.png\n",
      "/Users/william/Desktop/git/modeling/img/0_hist.jpg has converted\n",
      "/Users/william/Desktop/git/modeling/img/0_hist.png has removed\n",
      "\n",
      "/Users/william/Desktop/git/modeling/img/K-means.gif\n",
      "\n",
      "/Users/william/Desktop/git/modeling/img/0_semi-suprevised.png\n",
      "/Users/william/Desktop/git/modeling/img/0_semi-suprevised.jpg has converted\n",
      "/Users/william/Desktop/git/modeling/img/0_semi-suprevised.png has removed\n",
      "\n",
      "/Users/william/Desktop/git/modeling/img/M_model_map.png\n",
      "/Users/william/Desktop/git/modeling/img/M_model_map.jpg has converted\n",
      "/Users/william/Desktop/git/modeling/img/M_model_map.png has removed\n",
      "\n",
      "/Users/william/Desktop/git/modeling/img/0_scatter.png\n",
      "/Users/william/Desktop/git/modeling/img/0_scatter.jpg has converted\n",
      "/Users/william/Desktop/git/modeling/img/0_scatter.png has removed\n",
      "\n",
      "/Users/william/Desktop/git/modeling/img/0_boxplot.png\n",
      "/Users/william/Desktop/git/modeling/img/0_boxplot.jpg has converted\n",
      "/Users/william/Desktop/git/modeling/img/0_boxplot.png has removed\n",
      "\n",
      "/Users/william/Desktop/git/modeling/img/0_self-supervised.png\n",
      "/Users/william/Desktop/git/modeling/img/0_self-supervised.jpg has converted\n",
      "/Users/william/Desktop/git/modeling/img/0_self-supervised.png has removed\n",
      "\n",
      "/Users/william/Desktop/git/modeling/img/0_histplot.png\n",
      "/Users/william/Desktop/git/modeling/img/0_histplot.jpg has converted\n",
      "/Users/william/Desktop/git/modeling/img/0_histplot.png has removed\n",
      "\n"
     ]
    }
   ],
   "source": [
    "# Python program to convert png files to jpg files, and remove original png file\n",
    "\n",
    "# !pip install Pillow\n",
    "from PIL import Image\n",
    "import os\n",
    "\n",
    "def png_jpg_converter(fpath):\n",
    "    \n",
    "    path, f = os.path.split(fpath)\n",
    "    fname, fextension = os.path.splitext(fpath)  \n",
    "    f_jpg = fname+'.jpg'\n",
    "    \n",
    "    if fextension =='.png':\n",
    "        \n",
    "        img_png = Image.open(fpath, mode='r')\n",
    "        rgb_img = img_png.convert('RGB')\n",
    "\n",
    "        f_jpg = os.path.join(path, f_jpg)\n",
    "        rgb_img.save(f_jpg)\n",
    "        \n",
    "        print(f'{f_jpg} has converted')\n",
    "        \n",
    "        \n",
    "        # 有轉換後才把原本.png 刪除\n",
    "        os.remove(fpath)     \n",
    "        print(f'{fpath} has removed')\n",
    "\n",
    "\n",
    "def main():\n",
    "    target_dir = 'img'\n",
    "    directory = os.path.join(os.getcwd(), target_dir) #'path/to/dir'\n",
    "    for filename in os.listdir(directory):\n",
    "        f = os.path.join(directory, filename)\n",
    "        if os.path.isfile(f) and filename.endswith('.png'):\n",
    "            print(f)        \n",
    "            png_jpg_converter(f) \n",
    "            print()        \n",
    "            \n",
    "            \n",
    "if __name__ == '__main__':\n",
    "    main()"
   ]
  },
  {
   "cell_type": "code",
   "execution_count": 50,
   "id": "5defb670",
   "metadata": {},
   "outputs": [],
   "source": []
  },
  {
   "cell_type": "code",
   "execution_count": null,
   "id": "a6943db4",
   "metadata": {},
   "outputs": [],
   "source": []
  },
  {
   "cell_type": "code",
   "execution_count": null,
   "id": "03a5db8d",
   "metadata": {},
   "outputs": [],
   "source": []
  },
  {
   "cell_type": "code",
   "execution_count": null,
   "id": "ecbc18be",
   "metadata": {},
   "outputs": [],
   "source": []
  }
 ],
 "metadata": {
  "kernelspec": {
   "display_name": "Python 3 (ipykernel)",
   "language": "python",
   "name": "python3"
  },
  "language_info": {
   "codemirror_mode": {
    "name": "ipython",
    "version": 3
   },
   "file_extension": ".py",
   "mimetype": "text/x-python",
   "name": "python",
   "nbconvert_exporter": "python",
   "pygments_lexer": "ipython3",
   "version": "3.9.12"
  }
 },
 "nbformat": 4,
 "nbformat_minor": 5
}
